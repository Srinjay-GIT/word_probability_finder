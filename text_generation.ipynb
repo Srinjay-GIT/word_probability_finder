{
 "cells": [
  {
   "cell_type": "code",
   "execution_count": 1,
   "id": "ab90e11e",
   "metadata": {},
   "outputs": [],
   "source": [
    "import pandas as pd\n",
    "import markovify"
   ]
  },
  {
   "cell_type": "code",
   "execution_count": 2,
   "id": "dcd3a4d5",
   "metadata": {},
   "outputs": [
    {
     "data": {
      "text/html": [
       "<div>\n",
       "<style scoped>\n",
       "    .dataframe tbody tr th:only-of-type {\n",
       "        vertical-align: middle;\n",
       "    }\n",
       "\n",
       "    .dataframe tbody tr th {\n",
       "        vertical-align: top;\n",
       "    }\n",
       "\n",
       "    .dataframe thead th {\n",
       "        text-align: right;\n",
       "    }\n",
       "</style>\n",
       "<table border=\"1\" class=\"dataframe\">\n",
       "  <thead>\n",
       "    <tr style=\"text-align: right;\">\n",
       "      <th></th>\n",
       "      <th>publish_date</th>\n",
       "      <th>headline_text</th>\n",
       "    </tr>\n",
       "  </thead>\n",
       "  <tbody>\n",
       "    <tr>\n",
       "      <th>0</th>\n",
       "      <td>20030219</td>\n",
       "      <td>aba decides against community broadcasting lic...</td>\n",
       "    </tr>\n",
       "    <tr>\n",
       "      <th>1</th>\n",
       "      <td>20030219</td>\n",
       "      <td>act fire witnesses must be aware of defamation</td>\n",
       "    </tr>\n",
       "    <tr>\n",
       "      <th>2</th>\n",
       "      <td>20030219</td>\n",
       "      <td>a g calls for infrastructure protection summit</td>\n",
       "    </tr>\n",
       "    <tr>\n",
       "      <th>3</th>\n",
       "      <td>20030219</td>\n",
       "      <td>air nz staff in aust strike for pay rise</td>\n",
       "    </tr>\n",
       "    <tr>\n",
       "      <th>4</th>\n",
       "      <td>20030219</td>\n",
       "      <td>air nz strike to affect australian travellers</td>\n",
       "    </tr>\n",
       "  </tbody>\n",
       "</table>\n",
       "</div>"
      ],
      "text/plain": [
       "   publish_date                                      headline_text\n",
       "0      20030219  aba decides against community broadcasting lic...\n",
       "1      20030219     act fire witnesses must be aware of defamation\n",
       "2      20030219     a g calls for infrastructure protection summit\n",
       "3      20030219           air nz staff in aust strike for pay rise\n",
       "4      20030219      air nz strike to affect australian travellers"
      ]
     },
     "execution_count": 2,
     "metadata": {},
     "output_type": "execute_result"
    }
   ],
   "source": [
    "inp = pd.read_csv('abcnews-date-text.csv')\n",
    "inp.head()"
   ]
  },
  {
   "cell_type": "code",
   "execution_count": 3,
   "id": "e9cc4fda",
   "metadata": {},
   "outputs": [],
   "source": [
    "text_model = markovify.NewlineText(inp.headline_text, state_size=2)"
   ]
  },
  {
   "cell_type": "code",
   "execution_count": 4,
   "id": "e344f472",
   "metadata": {},
   "outputs": [
    {
     "name": "stdout",
     "output_type": "stream",
     "text": [
      "bracks resigns as zcu boss\n",
      "share market falls for second range crossing\n",
      "media and mining resources driving nt economy to unwind\n",
      "teacher in court again\n",
      "no publication of peris emails\n",
      "nt senator denies welfare fraud solutions\n",
      "doubt cast over gulf confrontation\n",
      "call to arms for stand alone\n",
      "tsunami alert remains in custody\n",
      "report suggests non custodial sentence\n"
     ]
    }
   ],
   "source": [
    "for i in range(10):\n",
    "    print(text_model.make_sentence())"
   ]
  },
  {
   "cell_type": "code",
   "execution_count": 23,
   "id": "4217eb3e",
   "metadata": {},
   "outputs": [],
   "source": [
    "text_model1 = markovify.NewlineText(inp.headline_text, state_size=3)\n",
    "text_model2 = markovify.NewlineText(inp.headline_text, state_size=1)"
   ]
  },
  {
   "cell_type": "code",
   "execution_count": 55,
   "id": "92255b64",
   "metadata": {},
   "outputs": [
    {
     "name": "stdout",
     "output_type": "stream",
     "text": [
      "15m lotto winner yet to claim win in shutting down bikie clubhouses\n",
      "fbi director calls for regulation after fake ultrasound\n",
      "robben on the double for mass wedding\n",
      "judge dismisses case against rebels boss accused of stealing $20m from employer denied bail\n",
      "child killer cramb dies in hospital after policemans death\n",
      "gordon wood and why the odds are stacked against us: yemen calls for aid\n",
      "top feel good stories of the nt revealed\n",
      "david hogg lifestyle solutions founder jailed for 7 years over death of kangaroo flat mother\n",
      "None\n",
      "union backs calls for grocery\n"
     ]
    }
   ],
   "source": [
    "for i in range(10):\n",
    "    print(text_model1.make_sentence())"
   ]
  },
  {
   "cell_type": "code",
   "execution_count": 44,
   "id": "4f269aba",
   "metadata": {},
   "outputs": [
    {
     "name": "stdout",
     "output_type": "stream",
     "text": [
      "pipe care centre report into lower despite august 2013 leaders skip truck\n",
      "ange postecoglou mckay new crops but agrees to stay silent never be heritage nomination attacks ahead of jerrabomberra for a legend australias covid 19 killed hamley bridge swinging against dockers\n",
      "us green announces fda to thwart pakistan kills 15 new chief concerned by laws\n",
      "police release 16 january 17 october 2014\n",
      "liberals take care australia v collingwood cleans up continues\n",
      "climate change plea\n",
      "wto bid for croc population change enshrining\n",
      "dog alert over lancefield home\n",
      "freightlink defends funding\n",
      "albany air strikes hit\n"
     ]
    }
   ],
   "source": [
    "for i in range(10):\n",
    "    print(text_model2.make_sentence())"
   ]
  },
  {
   "cell_type": "code",
   "execution_count": null,
   "id": "7c9e331f",
   "metadata": {},
   "outputs": [
    {
     "name": "stdout",
     "output_type": "stream",
     "text": [
      "('is',)\n",
      "10557 words are linked with this state.\n",
      "'the' | Probability: 0.0555\n",
      "'a' | Probability: 0.0543\n",
      "'___END__' | Probability: 0.0502\n",
      "'not' | Probability: 0.0303\n",
      "'it' | Probability: 0.0263\n",
      "'in' | Probability: 0.0161\n",
      "'no' | Probability: 0.0113\n",
      "'on' | Probability: 0.0106\n",
      "'being' | Probability: 0.0079\n",
      "'over' | Probability: 0.0075\n",
      "\n",
      "('melbourne', 'is')\n",
      "10 words are linked with this state.\n",
      "'safe' | Probability: 0.1000\n",
      "'gripped' | Probability: 0.1000\n",
      "'punt' | Probability: 0.1000\n",
      "'the' | Probability: 0.1000\n",
      "'booming' | Probability: 0.1000\n",
      "'not' | Probability: 0.1000\n",
      "'missing' | Probability: 0.1000\n",
      "'remaining' | Probability: 0.1000\n",
      "'out' | Probability: 0.1000\n",
      "'changing' | Probability: 0.1000\n",
      "\n",
      "('melbourne', 'is', 'safe')\n",
      "1 words are linked with this state.\n",
      "'___END__' | Probability: 1.0000\n"
     ]
    }
   ],
   "source": [
    "def get_next_word_probs(model, word, top_n=10):\n",
    "    state_size = model.state_size\n",
    "    chain = model.chain.model\n",
    "    # Prepare the state tuple\n",
    "    if state_size == 1:\n",
    "        state = tuple(word.split()[-state_size:])\n",
    "    else:\n",
    "        state = tuple(word.split()[-state_size:])\n",
    "        \n",
    "    # Get possible next words and their probabilities\n",
    "    print(state)\n",
    "    next_words = chain.get(state, {})\n",
    "    #print(next_words)\n",
    "    # Sort by probability\n",
    "    total = sum(next_words.values())\n",
    "    print(total,\"words are linked with this state.\")\n",
    "    sorted_next = sorted(\n",
    "        ((word, count / total) for word, count in next_words.items()),\n",
    "        key=lambda x: x[1], reverse=True\n",
    "    )[:top_n]\n",
    "    for next_word, prob in sorted_next:\n",
    "        print(f\"'{next_word}' | Probability: {prob:.4f}\")\n",
    "\n",
    "# Example usage:\n",
    "get_next_word_probs(text_model2, \"melbourne is\")\n",
    "print()\n",
    "get_next_word_probs(text_model, \"melbourne is\")\n",
    "print()\n",
    "get_next_word_probs(text_model1, \"melbourne is safe\") "
   ]
  }
 ],
 "metadata": {
  "kernelspec": {
   "display_name": "Python 3",
   "language": "python",
   "name": "python3"
  },
  "language_info": {
   "codemirror_mode": {
    "name": "ipython",
    "version": 3
   },
   "file_extension": ".py",
   "mimetype": "text/x-python",
   "name": "python",
   "nbconvert_exporter": "python",
   "pygments_lexer": "ipython3",
   "version": "3.12.2"
  }
 },
 "nbformat": 4,
 "nbformat_minor": 5
}
